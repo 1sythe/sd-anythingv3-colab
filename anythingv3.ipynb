{
  "nbformat": 4,
  "nbformat_minor": 0,
  "metadata": {
    "colab": {
      "provenance": []
    },
    "kernelspec": {
      "name": "python3",
      "display_name": "Python 3"
    },
    "language_info": {
      "name": "python"
    },
    "accelerator": "GPU",
    "gpuClass": "standard"
  },
  "cells": [
    {
      "cell_type": "code",
      "source": [
        "!git lfs install\n",
        "!git clone https://github.com/AUTOMATIC1111/stable-diffusion-webui\n",
        "!git clone https://huggingface.co/Linaqruf/anything-v3.0\n",
        "!mkdir -p /content/stable-diffusion-webui/models/Stable-diffusion /content/stable-diffusion-webui/models/hypernetworks\n",
        "import os\n",
        "old_file = os.path.join(\"/content/anything-v3.0/\", \"Anything-V3.0-pruned-fp32.ckpt\")\n",
        "new_file = os.path.join(\"/content/anything-v3.0/\", \"model.ckpt\")\n",
        "os.rename(old_file, new_file)\n",
        "old_file = os.path.join(\"/content/anything-v3.0/\", \"Anything-V3.0.vae.pt\")\n",
        "new_file = os.path.join(\"/content/anything-v3.0/\", \"model.vae.pt\")\n",
        "os.rename(old_file, new_file)\n",
        "!mv \"/content/anything-v3.0/model.ckpt\" \"/content/stable-diffusion-webui/models/Stable-diffusion\"\n",
        "!mv \"/content/anything-v3.0/model.vae.pt\" \"/content/stable-diffusion-webui/models/Stable-diffusion\"\n",
        "%cd /content/stable-diffusion-webui\n",
        "!COMMANDLINE_ARGS=\"--share --gradio-debug --medvram --disable-safe-unpickle\" REQS_FILE=\"requirements.txt\" python launch.py"
      ],
      "metadata": {
        "id": "sBbcB4vwj_jm"
      },
      "execution_count": null,
      "outputs": []
    },
    {
      "cell_type": "markdown",
      "metadata": {
        "id": "fhwIXzcgfkoR"
      },
      "source": [
        "# 📚 GitHub for more: [_@nolanaatama_](https://github.com/nolanaatama)\n",
        "# 📦 Repo: [Github](https://github.com/nolanaatama/sd-anythingv3-colab)"
      ]
    }
  ]
}