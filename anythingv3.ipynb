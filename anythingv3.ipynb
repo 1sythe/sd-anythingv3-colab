{
  "nbformat": 4,
  "nbformat_minor": 0,
  "metadata": {
    "colab": {
      "provenance": []
    },
    "kernelspec": {
      "name": "python3",
      "display_name": "Python 3"
    },
    "language_info": {
      "name": "python"
    },
    "accelerator": "GPU",
    "gpuClass": "standard"
  },
  "cells": [
    {
      "cell_type": "code",
      "source": [
        "!git clone https://github.com/AUTOMATIC1111/stable-diffusion-webui\n",
        "!curl -Lo model.ckpt https://huggingface.co/Linaqruf/anything-v3.0/resolve/main/Anything-V3.0-pruned-fp32.ckpt\n",
        "!curl -Lo model.vae.pt https://huggingface.co/Linaqruf/anything-v3.0/resolve/main/Anything-V3.0.vae.pt\n",
        "!mv \"/content/model.ckpt\" \"/content/stable-diffusion-webui/models/Stable-diffusion\"\n",
        "!mv \"/content/model.vae.pt\" \"/content/stable-diffusion-webui/models/Stable-diffusion\"\n",
        "%cd /content/stable-diffusion-webui\n",
        "!COMMANDLINE_ARGS=\"--share --gradio-debug --medvram --disable-safe-unpickle\" REQS_FILE=\"requirements.txt\" python launch.py"
      ],
      "metadata": {
        "id": "sBbcB4vwj_jm",
        "colab": {
          "base_uri": "https://localhost:8080/"
        },
        "outputId": "d3452d36-751f-440c-b4f8-b7b8cefcc3df"
      },
      "execution_count": null,
      "outputs": [
        {
          "metadata": {
            "tags": null
          },
          "name": "stdout",
          "output_type": "stream",
          "text": [
            "Cloning into 'stable-diffusion-webui'...\n",
            "remote: Enumerating objects: 11537, done.\u001b[K\n",
            "remote: Total 11537 (delta 0), reused 0 (delta 0), pack-reused 11537\u001b[K\n",
            "Receiving objects: 100% (11537/11537), 23.88 MiB | 35.59 MiB/s, done.\n",
            "Resolving deltas: 100% (8074/8074), done.\n",
            "  % Total    % Received % Xferd  Average Speed   Time    Time     Time  Current\n",
            "                                 Dload  Upload   Total   Spent    Left  Speed\n",
            "100  1167  100  1167    0     0  21611      0 --:--:-- --:--:-- --:--:-- 21611\n",
            "100 4067M  100 4067M    0     0   242M      0  0:00:16  0:00:16 --:--:--  240M\n",
            "  % Total    % Received % Xferd  Average Speed   Time    Time     Time  Current\n",
            "                                 Dload  Upload   Total   Spent    Left  Speed\n",
            "100  1145  100  1145    0     0  38166      0 --:--:-- --:--:-- --:--:-- 38166\n",
            "100  784M  100  784M    0     0   245M      0  0:00:03  0:00:03 --:--:--  240M\n",
            "/content/stable-diffusion-webui\n",
            "Python 3.8.15 (default, Oct 12 2022, 19:14:39) \n",
            "[GCC 7.5.0]\n",
            "Commit hash: 4b3c5bc24bffdf429c463a465763b3077fe55eb8\n",
            "Installing gfpgan\n",
            "Installing clip\n",
            "Installing open_clip\n",
            "Cloning Stable Diffusion into repositories/stable-diffusion-stability-ai...\n",
            "Cloning Taming Transformers into repositories/taming-transformers...\n",
            "Cloning K-diffusion into repositories/k-diffusion...\n",
            "Cloning CodeFormer into repositories/CodeFormer...\n",
            "Cloning BLIP into repositories/BLIP...\n",
            "Installing requirements for CodeFormer\n",
            "Installing requirements for Web UI\n",
            "Launching Web UI with arguments: --share --gradio-debug --medvram --disable-safe-unpickle\n",
            "No module 'xformers'. Proceeding without it.\n",
            "LatentDiffusion: Running in eps-prediction mode\n",
            "DiffusionWrapper has 859.52 M params.\n",
            "Downloading: 100% 939k/939k [00:00<00:00, 37.1MB/s]\n",
            "Downloading: 100% 512k/512k [00:00<00:00, 35.6MB/s]\n",
            "Downloading: 100% 389/389 [00:00<00:00, 748kB/s]\n",
            "Downloading: 100% 905/905 [00:00<00:00, 1.69MB/s]\n",
            "Downloading: 100% 4.41k/4.41k [00:00<00:00, 6.53MB/s]\n",
            "Downloading: 100% 1.59G/1.59G [00:17<00:00, 96.9MB/s]\n",
            "Loading weights [1a7df6b8] from /content/stable-diffusion-webui/models/Stable-diffusion/model.ckpt\n",
            "Using VAE found similar to selected model: /content/stable-diffusion-webui/models/Stable-diffusion/model.vae.pt\n",
            "Loading VAE weights from: /content/stable-diffusion-webui/models/Stable-diffusion/model.vae.pt\n",
            "Applying cross attention optimization (Doggettx).\n",
            "Model loaded.\n",
            "Loaded a total of 0 textual inversion embeddings.\n",
            "Embeddings: \n",
            "Running on local URL:  http://127.0.0.1:7860\n",
            "Running on public URL: https://255fc4d82c666a3c.gradio.app\n",
            "\n",
            "This share link expires in 72 hours. For free permanent hosting and GPU upgrades (NEW!), check out Spaces: https://huggingface.co/spaces\n"
          ]
        }
      ]
    },
    {
      "cell_type": "markdown",
      "metadata": {
        "id": "fhwIXzcgfkoR"
      },
      "source": [
        "# 📚 GitHub for more: [_@nolanaatama_](https://github.com/nolanaatama)\n",
        "# 📦 Repo: [Github](https://github.com/nolanaatama/sd-anythingv3-colab)"
      ]
    }
  ]
}